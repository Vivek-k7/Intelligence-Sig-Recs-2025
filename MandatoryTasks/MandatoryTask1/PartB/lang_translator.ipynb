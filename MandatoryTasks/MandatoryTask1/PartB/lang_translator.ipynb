{
 "cells": [
  {
   "cell_type": "code",
   "execution_count": 51,
   "id": "f6b4111d",
   "metadata": {},
   "outputs": [],
   "source": [
    "import pandas as pd\n",
    "import numpy as np\n",
    "import matplotlib.pyplot as plt"
   ]
  },
  {
   "cell_type": "markdown",
   "id": "6bf666a9",
   "metadata": {},
   "source": [
    "## Data Loading"
   ]
  },
  {
   "cell_type": "code",
   "execution_count": 52,
   "id": "b1ec47c4",
   "metadata": {},
   "outputs": [],
   "source": [
    "with open(r'D:\\Personal\\code\\ML comp\\New folder\\en-fr\\en-fr.en', encoding='utf-8') as en:\n",
    "    en_lines = [line.strip() for line in en if line.strip()]\n",
    "with open(r'D:\\Personal\\code\\ML comp\\New folder\\en-fr\\en-fr.fr', encoding='utf-8') as fr:\n",
    "    fr_lines = [line.strip() for line in fr if line.strip()]\n",
    "\n",
    "df = pd.DataFrame({'en': en_lines, 'fr': fr_lines})\n",
    "df= df.sample(n=60000, random_state=42).reset_index(drop=True)"
   ]
  },
  {
   "cell_type": "code",
   "execution_count": 53,
   "id": "9e304622",
   "metadata": {},
   "outputs": [
    {
     "data": {
      "text/html": [
       "<div>\n",
       "<style scoped>\n",
       "    .dataframe tbody tr th:only-of-type {\n",
       "        vertical-align: middle;\n",
       "    }\n",
       "\n",
       "    .dataframe tbody tr th {\n",
       "        vertical-align: top;\n",
       "    }\n",
       "\n",
       "    .dataframe thead th {\n",
       "        text-align: right;\n",
       "    }\n",
       "</style>\n",
       "<table border=\"1\" class=\"dataframe\">\n",
       "  <thead>\n",
       "    <tr style=\"text-align: right;\">\n",
       "      <th></th>\n",
       "      <th>en</th>\n",
       "      <th>fr</th>\n",
       "    </tr>\n",
       "  </thead>\n",
       "  <tbody>\n",
       "    <tr>\n",
       "      <th>0</th>\n",
       "      <td>It explains how the Committee for Medicinal Pr...</td>\n",
       "      <td>Il explique comment le comité des médicaments ...</td>\n",
       "    </tr>\n",
       "    <tr>\n",
       "      <th>1</th>\n",
       "      <td>Concomitant use of CYP3A4 inhibitors (e. g., a...</td>\n",
       "      <td>L’ usage concomitant d’ inhibiteurs du CYP3A4 ...</td>\n",
       "    </tr>\n",
       "    <tr>\n",
       "      <th>2</th>\n",
       "      <td>- If you have any further questions, ask your ...</td>\n",
       "      <td>- Si vous avez toute autres question, si vous ...</td>\n",
       "    </tr>\n",
       "    <tr>\n",
       "      <th>3</th>\n",
       "      <td>Date of first authorisation:</td>\n",
       "      <td>Date de première autorisation:</td>\n",
       "    </tr>\n",
       "    <tr>\n",
       "      <th>4</th>\n",
       "      <td>0(0.0) 0(0.0)</td>\n",
       "      <td>Hémorragie Neutropénie fébrile</td>\n",
       "    </tr>\n",
       "  </tbody>\n",
       "</table>\n",
       "</div>"
      ],
      "text/plain": [
       "                                                  en  \\\n",
       "0  It explains how the Committee for Medicinal Pr...   \n",
       "1  Concomitant use of CYP3A4 inhibitors (e. g., a...   \n",
       "2  - If you have any further questions, ask your ...   \n",
       "3                       Date of first authorisation:   \n",
       "4                                      0(0.0) 0(0.0)   \n",
       "\n",
       "                                                  fr  \n",
       "0  Il explique comment le comité des médicaments ...  \n",
       "1  L’ usage concomitant d’ inhibiteurs du CYP3A4 ...  \n",
       "2  - Si vous avez toute autres question, si vous ...  \n",
       "3                     Date de première autorisation:  \n",
       "4                     Hémorragie Neutropénie fébrile  "
      ]
     },
     "execution_count": 53,
     "metadata": {},
     "output_type": "execute_result"
    }
   ],
   "source": [
    "df.head()"
   ]
  },
  {
   "cell_type": "code",
   "execution_count": 54,
   "id": "e97c2a9b",
   "metadata": {},
   "outputs": [
    {
     "data": {
      "text/plain": [
       "en    0\n",
       "fr    0\n",
       "dtype: int64"
      ]
     },
     "execution_count": 54,
     "metadata": {},
     "output_type": "execute_result"
    }
   ],
   "source": [
    "df.isnull().sum()"
   ]
  },
  {
   "cell_type": "code",
   "execution_count": 55,
   "id": "6de26444",
   "metadata": {},
   "outputs": [
    {
     "data": {
      "text/plain": [
       "60000"
      ]
     },
     "execution_count": 55,
     "metadata": {},
     "output_type": "execute_result"
    }
   ],
   "source": [
    "len(df)"
   ]
  },
  {
   "cell_type": "code",
   "execution_count": null,
   "id": "838f3213",
   "metadata": {},
   "outputs": [],
   "source": [
    "df= df.sample(n= 40000).reset_index()"
   ]
  },
  {
   "cell_type": "code",
   "execution_count": 57,
   "id": "008f12ea",
   "metadata": {},
   "outputs": [],
   "source": [
    "from datasets import Dataset\n",
    "\n",
    "dataset = Dataset.from_pandas(df)\n",
    "dataset = dataset.train_test_split(test_size=0.2, seed=42)\n",
    "train_data = dataset['train']\n",
    "val_data = dataset['test']"
   ]
  },
  {
   "cell_type": "markdown",
   "id": "31157255",
   "metadata": {},
   "source": [
    "### Importing pretrained seq2seq model"
   ]
  },
  {
   "cell_type": "code",
   "execution_count": 58,
   "id": "61e28e40",
   "metadata": {},
   "outputs": [
    {
     "name": "stderr",
     "output_type": "stream",
     "text": [
      "d:\\Personal\\code\\ML comp\\New folder\\.venv\\Lib\\site-packages\\transformers\\models\\marian\\tokenization_marian.py:175: UserWarning: Recommended: pip install sacremoses.\n",
      "  warnings.warn(\"Recommended: pip install sacremoses.\")\n"
     ]
    }
   ],
   "source": [
    "from transformers import MarianMTModel, MarianTokenizer, MarianConfig\n",
    "\n",
    "model_name = \"Helsinki-NLP/opus-mt-en-fr\"\n",
    "\n",
    "tokenizer = MarianTokenizer.from_pretrained(model_name)\n",
    "config = MarianConfig.from_pretrained(model_name, dropout=0.2)\n",
    "model = MarianMTModel.from_pretrained(model_name, config = config)"
   ]
  },
  {
   "cell_type": "code",
   "execution_count": 59,
   "id": "c6dfabac",
   "metadata": {},
   "outputs": [
    {
     "name": "stderr",
     "output_type": "stream",
     "text": [
      "Token indices sequence length is longer than the specified maximum sequence length for this model (531 > 512). Running this sequence through the model will result in indexing errors\n"
     ]
    },
    {
     "name": "stdout",
     "output_type": "stream",
     "text": [
      "49 86\n"
     ]
    }
   ],
   "source": [
    "en_token_lengths = [len(tokenizer.encode(s)) for s in df['en']]\n",
    "fr_token_lengths = [len(tokenizer.encode(s)) for s in df['fr']]\n",
    "\n",
    "import numpy as np\n",
    "max_len_en = int(np.percentile(en_token_lengths, 95))\n",
    "max_len_fr = int(np.percentile(fr_token_lengths, 95))         # similar to prev notebooks\n",
    "print(max_len_en, max_len_fr)\n"
   ]
  },
  {
   "cell_type": "markdown",
   "id": "5b351fbf",
   "metadata": {},
   "source": [
    "### Preprocessing Data"
   ]
  },
  {
   "cell_type": "code",
   "execution_count": 60,
   "id": "15adfac8",
   "metadata": {},
   "outputs": [
    {
     "name": "stderr",
     "output_type": "stream",
     "text": [
      "Map:   0%|          | 0/24000 [00:00<?, ? examples/s]d:\\Personal\\code\\ML comp\\New folder\\.venv\\Lib\\site-packages\\transformers\\tokenization_utils_base.py:4034: UserWarning: `as_target_tokenizer` is deprecated and will be removed in v5 of Transformers. You can tokenize your labels by using the argument `text_target` of the regular `__call__` method (either in the same call as your input texts if you use the same keyword arguments, or in a separate call.\n",
      "  warnings.warn(\n",
      "Map: 100%|██████████| 24000/24000 [00:07<00:00, 3159.78 examples/s]\n",
      "Map: 100%|██████████| 6000/6000 [00:01<00:00, 3125.84 examples/s]\n"
     ]
    }
   ],
   "source": [
    "def preprocess(batch):\n",
    "    inputs = batch[\"en\"]\n",
    "    targets = batch[\"fr\"]\n",
    "    \n",
    "    model_inputs = tokenizer(inputs, max_length=100, truncation=True, padding=\"max_length\")\n",
    "    \n",
    "    with tokenizer.as_target_tokenizer():\n",
    "        labels = tokenizer(targets, max_length=100, truncation=True, padding=\"max_length\")\n",
    "    \n",
    "    model_inputs[\"labels\"] = labels[\"input_ids\"]\n",
    "    return model_inputs\n",
    "\n",
    "tokenized_train = train_data.map(preprocess, batched=True, remove_columns=train_data.column_names)\n",
    "tokenized_val = val_data.map(preprocess, batched=True, remove_columns=val_data.column_names)\n"
   ]
  },
  {
   "cell_type": "code",
   "execution_count": 61,
   "id": "465df437",
   "metadata": {},
   "outputs": [],
   "source": [
    "from torch.utils.data import DataLoader\n",
    "import torch\n",
    "\n",
    "tokenized_val.set_format(\"torch\", columns=[\"input_ids\", \"attention_mask\"])\n",
    "\n",
    "batch_size = 16  \n",
    "val_loader = DataLoader(\n",
    "    tokenized_val, \n",
    "    batch_size=batch_size\n",
    ")\n",
    "\n",
    "device = torch.device(\"cuda\" if torch.cuda.is_available() else \"cpu\")\n",
    "model.to(device)\n",
    "model.eval()\n",
    "\n",
    "all_generations = []\n",
    "\n",
    "for batch in val_loader:\n",
    "    batch = {k: v.to(device) for k, v in batch.items()}\n",
    "    \n",
    "    with torch.no_grad():\n",
    "        generated_outputs = model.generate(\n",
    "            **batch,\n",
    "            max_new_tokens=100  \n",
    "        )\n",
    "    \n",
    "    decoded = tokenizer.batch_decode(generated_outputs, skip_special_tokens=True)\n",
    "    all_generations.extend(decoded)\n",
    "\n",
    "tokenized_val.set_format(\"torch\", columns=[\"input_ids\", \"attention_mask\", \"labels\"])"
   ]
  },
  {
   "cell_type": "markdown",
   "id": "a9c22273",
   "metadata": {},
   "source": [
    "### BLEU Before Fine Tuning:"
   ]
  },
  {
   "cell_type": "code",
   "execution_count": 62,
   "id": "c956370c",
   "metadata": {},
   "outputs": [
    {
     "name": "stdout",
     "output_type": "stream",
     "text": [
      "{'bleu': 0.44886527817580946, 'precisions': [0.6645809159229176, 0.4983239186665584, 0.3906051944824158, 0.31380975118043397], 'brevity_penalty': 1.0, 'length_ratio': 1.0134410374766458, 'translation_length': 92213, 'reference_length': 90990}\n",
      "BLEU Before fine tuning: 0.44886527817580946\n"
     ]
    }
   ],
   "source": [
    "import evaluate\n",
    "\n",
    "bleu = evaluate.load(\"bleu\")\n",
    "\n",
    "references = [[item] for item in val_data[\"fr\"]]\n",
    "results = bleu.compute(predictions=all_generations, references=references)\n",
    "\n",
    "print(results)\n",
    "print(f\"BLEU Before fine tuning: {results['bleu']}\")"
   ]
  },
  {
   "cell_type": "markdown",
   "id": "be5381cf",
   "metadata": {},
   "source": [
    "## Hyperparameters"
   ]
  },
  {
   "cell_type": "code",
   "execution_count": null,
   "id": "59090f94",
   "metadata": {},
   "outputs": [],
   "source": [
    "from transformers import TrainingArguments\n",
    "\n",
    "training_args = TrainingArguments(\n",
    "    output_dir=\"./results\",\n",
    "    eval_strategy=\"epoch\",\n",
    "    learning_rate=1e-5,\n",
    "    per_device_train_batch_size=32,  \n",
    "    per_device_eval_batch_size=32,\n",
    "    num_train_epochs=8,\n",
    "    weight_decay=0.5,\n",
    "    save_total_limit=2,\n",
    "    warmup_steps = 500,\n",
    "    save_strategy=\"epoch\",\n",
    "    logging_dir=\"./logs\",\n",
    "    logging_steps=50,\n",
    "    fp16=True,  \n",
    ")"
   ]
  },
  {
   "cell_type": "markdown",
   "id": "4362d1f7",
   "metadata": {},
   "source": [
    "## Training"
   ]
  },
  {
   "cell_type": "code",
   "execution_count": 72,
   "id": "b4c28a38",
   "metadata": {},
   "outputs": [
    {
     "name": "stderr",
     "output_type": "stream",
     "text": [
      "C:\\Users\\vivek\\AppData\\Local\\Temp\\ipykernel_18148\\2791842479.py:5: FutureWarning: `tokenizer` is deprecated and will be removed in version 5.0.0 for `Trainer.__init__`. Use `processing_class` instead.\n",
      "  trainer = Trainer(\n"
     ]
    }
   ],
   "source": [
    "from transformers import Trainer, DataCollatorForSeq2Seq\n",
    "\n",
    "data_collator = DataCollatorForSeq2Seq(tokenizer, model=model)\n",
    "\n",
    "trainer = Trainer(\n",
    "    model=model,\n",
    "    args=training_args,\n",
    "    train_dataset=tokenized_train,\n",
    "    eval_dataset=tokenized_val,\n",
    "    tokenizer=tokenizer,\n",
    "    data_collator=data_collator,\n",
    ")"
   ]
  },
  {
   "cell_type": "code",
   "execution_count": 73,
   "id": "32468d08",
   "metadata": {},
   "outputs": [
    {
     "data": {
      "text/html": [
       "\n",
       "    <div>\n",
       "      \n",
       "      <progress value='6000' max='6000' style='width:300px; height:20px; vertical-align: middle;'></progress>\n",
       "      [6000/6000 20:30, Epoch 8/8]\n",
       "    </div>\n",
       "    <table border=\"1\" class=\"dataframe\">\n",
       "  <thead>\n",
       " <tr style=\"text-align: left;\">\n",
       "      <th>Epoch</th>\n",
       "      <th>Training Loss</th>\n",
       "      <th>Validation Loss</th>\n",
       "    </tr>\n",
       "  </thead>\n",
       "  <tbody>\n",
       "    <tr>\n",
       "      <td>1</td>\n",
       "      <td>0.134100</td>\n",
       "      <td>0.178673</td>\n",
       "    </tr>\n",
       "    <tr>\n",
       "      <td>2</td>\n",
       "      <td>0.143200</td>\n",
       "      <td>0.176660</td>\n",
       "    </tr>\n",
       "    <tr>\n",
       "      <td>3</td>\n",
       "      <td>0.127000</td>\n",
       "      <td>0.176538</td>\n",
       "    </tr>\n",
       "    <tr>\n",
       "      <td>4</td>\n",
       "      <td>0.122700</td>\n",
       "      <td>0.176177</td>\n",
       "    </tr>\n",
       "    <tr>\n",
       "      <td>5</td>\n",
       "      <td>0.134800</td>\n",
       "      <td>0.174572</td>\n",
       "    </tr>\n",
       "    <tr>\n",
       "      <td>6</td>\n",
       "      <td>0.123000</td>\n",
       "      <td>0.174350</td>\n",
       "    </tr>\n",
       "    <tr>\n",
       "      <td>7</td>\n",
       "      <td>0.114800</td>\n",
       "      <td>0.174438</td>\n",
       "    </tr>\n",
       "    <tr>\n",
       "      <td>8</td>\n",
       "      <td>0.111800</td>\n",
       "      <td>0.174653</td>\n",
       "    </tr>\n",
       "  </tbody>\n",
       "</table><p>"
      ],
      "text/plain": [
       "<IPython.core.display.HTML object>"
      ]
     },
     "metadata": {},
     "output_type": "display_data"
    },
    {
     "data": {
      "text/plain": [
       "TrainOutput(global_step=6000, training_loss=0.12570794701576232, metrics={'train_runtime': 1231.3048, 'train_samples_per_second': 155.932, 'train_steps_per_second': 4.873, 'total_flos': 5084754739200000.0, 'train_loss': 0.12570794701576232, 'epoch': 8.0})"
      ]
     },
     "execution_count": 73,
     "metadata": {},
     "output_type": "execute_result"
    }
   ],
   "source": [
    "trainer.train()"
   ]
  },
  {
   "cell_type": "markdown",
   "id": "da920709",
   "metadata": {},
   "source": [
    "## BLEU Post fine tuning"
   ]
  },
  {
   "cell_type": "code",
   "execution_count": 66,
   "id": "98371f81",
   "metadata": {},
   "outputs": [],
   "source": [
    "all_generations = []\n",
    "for batch in val_loader:\n",
    "    batch = {k: v.to(device) for k, v in batch.items()}\n",
    "    \n",
    "    with torch.no_grad():\n",
    "        generated_outputs = model.generate(\n",
    "            **batch,\n",
    "            max_new_tokens=100  \n",
    "        )\n",
    "    \n",
    "    decoded = tokenizer.batch_decode(generated_outputs, skip_special_tokens=True)\n",
    "    all_generations.extend(decoded)"
   ]
  },
  {
   "cell_type": "code",
   "execution_count": 67,
   "id": "df28ef04",
   "metadata": {},
   "outputs": [
    {
     "name": "stdout",
     "output_type": "stream",
     "text": [
      "{'bleu': 0.48076335647936286, 'precisions': [0.7001557030378657, 0.5345151791099495, 0.42398254338780067, 0.3431856611430504], 'brevity_penalty': 0.9952298944405686, 'length_ratio': 0.9952412353005825, 'translation_length': 90557, 'reference_length': 90990}\n",
      "BLEU after fine tuning: 0.48076335647936286\n"
     ]
    }
   ],
   "source": [
    "import evaluate\n",
    "\n",
    "bleu = evaluate.load(\"bleu\")\n",
    "\n",
    "references = [[item] for item in val_data[\"fr\"]]\n",
    "results = bleu.compute(predictions=all_generations, references=references)\n",
    "\n",
    "print(results)\n",
    "print(f\"BLEU after fine tuning: {results['bleu']}\")"
   ]
  },
  {
   "cell_type": "markdown",
   "id": "4a3f6445",
   "metadata": {},
   "source": []
  },
  {
   "cell_type": "code",
   "execution_count": 75,
   "id": "733efaf1",
   "metadata": {},
   "outputs": [
    {
     "name": "stderr",
     "output_type": "stream",
     "text": [
      "d:\\Personal\\code\\ML comp\\New folder\\.venv\\Lib\\site-packages\\transformers\\models\\marian\\tokenization_marian.py:175: UserWarning: Recommended: pip install sacremoses.\n",
      "  warnings.warn(\"Recommended: pip install sacremoses.\")\n",
      "Device set to use cuda\n"
     ]
    },
    {
     "name": "stdout",
     "output_type": "stream",
     "text": [
      "La dysrégulation des cytokines pro-inflammatoires, en particulier de l interleukine-6 et du facteur-α de nécrose tumorale, accélère une cascade de dysfonction endothéliale et de thrombose microvasculaire, aboutissant en fin de compte à une défaillance multi-organe.\n"
     ]
    }
   ],
   "source": [
    "import torch\n",
    "from transformers import MarianMTModel, MarianTokenizer, pipeline\n",
    "\n",
    "\n",
    "model_path = r\"D:\\Personal\\code\\ML comp\\New folder\\results\\checkpoint-6000\"\n",
    "\n",
    "tokenizer = MarianTokenizer.from_pretrained(model_path)\n",
    "model = MarianMTModel.from_pretrained(model_path)\n",
    "\n",
    "device = torch.device(\"cuda\" if torch.cuda.is_available() else \"cpu\")\n",
    "model.to(device)\n",
    "\n",
    "translator_pipeline = pipeline(\n",
    "    \"translation\",\n",
    "    model = model,\n",
    "    tokenizer = tokenizer,\n",
    "    device = device\n",
    ")\n",
    "input_text = \"The dysregulation of pro-inflammatory cytokines, particularly interleukin-6 and tumor necrosis factor-α, precipitates a cascade of endothelial dysfunction and microvascular thrombosis, ultimately culminating in multi-organ failure.\"\n",
    "translated = translator_pipeline(input_text, src_lang = \"en\", tgt_lang = \"fr\")\n",
    "print(translated[0][\"translation_text\"])\n",
    "\n"
   ]
  },
  {
   "cell_type": "markdown",
   "id": "8e65e018",
   "metadata": {},
   "source": [
    "###### A note: I was able to achieve a BLEU of around 55 after fine tuning (44->55) but lost the weights and the saved notebook."
   ]
  }
 ],
 "metadata": {
  "kernelspec": {
   "display_name": ".venv (3.13.3)",
   "language": "python",
   "name": "python3"
  },
  "language_info": {
   "codemirror_mode": {
    "name": "ipython",
    "version": 3
   },
   "file_extension": ".py",
   "mimetype": "text/x-python",
   "name": "python",
   "nbconvert_exporter": "python",
   "pygments_lexer": "ipython3",
   "version": "3.13.3"
  }
 },
 "nbformat": 4,
 "nbformat_minor": 5
}
