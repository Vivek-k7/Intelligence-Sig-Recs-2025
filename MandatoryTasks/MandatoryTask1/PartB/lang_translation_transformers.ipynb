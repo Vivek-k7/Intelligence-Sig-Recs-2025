{
 "cells": [
  {
   "cell_type": "code",
   "execution_count": null,
   "id": "a9c25e23",
   "metadata": {},
   "outputs": [],
   "source": [
    "import numpy as np \n",
    "import pandas as pd\n",
    "import matplotlib.pyplot as plt\n",
    "import torch\n",
    "import torch.nn as nn\n",
    "import torch.nn.functional as F\n",
    "import random\n",
    "import math\n",
    "from tqdm import tqdm\n",
    "from sklearn.model_selection import train_test_split\n",
    "from torch.utils.data import TensorDataset, DataLoader\n",
    "from torch.amp import autocast, GradScaler"
   ]
  },
  {
   "cell_type": "markdown",
   "id": "492ed5f9",
   "metadata": {},
   "source": [
    "# Data Preprocessing\n",
    "#### load data"
   ]
  },
  {
   "cell_type": "code",
   "execution_count": null,
   "id": "282d6eee",
   "metadata": {},
   "outputs": [
    {
     "name": "stdout",
     "output_type": "stream",
     "text": [
      "DatasetDict({\n",
      "    train: Dataset({\n",
      "        features: ['english', 'non_english'],\n",
      "        num_rows: 1966848\n",
      "    })\n",
      "})\n",
      "{'english': 'Resumption of the session', 'non_english': 'Reanudación del período de sesiones'}\n"
     ]
    }
   ],
   "source": [
    "from datasets import load_dataset\n",
    "\n",
    "ds = load_dataset(\"sentence-transformers/parallel-sentences-europarl\", \"en-es\")\n",
    "\n",
    "print(ds)\n",
    "print(ds['train'][0])\n",
    "dataset = ds['train']"
   ]
  },
  {
   "cell_type": "code",
   "execution_count": null,
   "id": "2dad4d57",
   "metadata": {},
   "outputs": [
    {
     "data": {
      "text/html": [
       "<div>\n",
       "<style scoped>\n",
       "    .dataframe tbody tr th:only-of-type {\n",
       "        vertical-align: middle;\n",
       "    }\n",
       "\n",
       "    .dataframe tbody tr th {\n",
       "        vertical-align: top;\n",
       "    }\n",
       "\n",
       "    .dataframe thead th {\n",
       "        text-align: right;\n",
       "    }\n",
       "</style>\n",
       "<table border=\"1\" class=\"dataframe\">\n",
       "  <thead>\n",
       "    <tr style=\"text-align: right;\">\n",
       "      <th></th>\n",
       "      <th>english</th>\n",
       "      <th>non_english</th>\n",
       "    </tr>\n",
       "  </thead>\n",
       "  <tbody>\n",
       "    <tr>\n",
       "      <th>0</th>\n",
       "      <td>According to the United Nations Food and Agric...</td>\n",
       "      <td>Según la Organización de las Naciones Unidas p...</td>\n",
       "    </tr>\n",
       "    <tr>\n",
       "      <th>1</th>\n",
       "      <td>Once again, we see the conflict between indust...</td>\n",
       "      <td>Una vez más vemos surgir el conflicto entre la...</td>\n",
       "    </tr>\n",
       "    <tr>\n",
       "      <th>2</th>\n",
       "      <td>All that has allowed us to understand one anot...</td>\n",
       "      <td>Todo esto ha hecho posible que nos conozcamos ...</td>\n",
       "    </tr>\n",
       "    <tr>\n",
       "      <th>3</th>\n",
       "      <td>The EU uses those expectations to demand refor...</td>\n",
       "      <td>La Unión Europea utiliza estas expectativas pa...</td>\n",
       "    </tr>\n",
       "    <tr>\n",
       "      <th>4</th>\n",
       "      <td>The relevant paragraphs have been amended and ...</td>\n",
       "      <td>Se han modificado los párrafos pertinentes y y...</td>\n",
       "    </tr>\n",
       "  </tbody>\n",
       "</table>\n",
       "</div>"
      ],
      "text/plain": [
       "                                             english  \\\n",
       "0  According to the United Nations Food and Agric...   \n",
       "1  Once again, we see the conflict between indust...   \n",
       "2  All that has allowed us to understand one anot...   \n",
       "3  The EU uses those expectations to demand refor...   \n",
       "4  The relevant paragraphs have been amended and ...   \n",
       "\n",
       "                                         non_english  \n",
       "0  Según la Organización de las Naciones Unidas p...  \n",
       "1  Una vez más vemos surgir el conflicto entre la...  \n",
       "2  Todo esto ha hecho posible que nos conozcamos ...  \n",
       "3  La Unión Europea utiliza estas expectativas pa...  \n",
       "4  Se han modificado los párrafos pertinentes y y...  "
      ]
     },
     "execution_count": 61,
     "metadata": {},
     "output_type": "execute_result"
    }
   ],
   "source": [
    "subset = dataset.shuffle(seed=42).select(range(50000))\n",
    "subset = subset.to_pandas()\n",
    "subset.head()"
   ]
  },
  {
   "cell_type": "code",
   "execution_count": null,
   "id": "18342b5c",
   "metadata": {},
   "outputs": [],
   "source": [
    "esp = subset['non_english'].to_list()\n",
    "esp_sizes = [len(i.split()) for i in esp]\n",
    "eng = subset['english'].to_list()\n",
    "eng_sizes = [len(i.split()) for i in eng]"
   ]
  },
  {
   "cell_type": "code",
   "execution_count": null,
   "id": "81fc36a6",
   "metadata": {},
   "outputs": [
    {
     "data": {
      "image/png": "[encoded data removed]",
      "text/plain": [
       "<Figure size 640x480 with 2 Axes>"
      ]
     },
     "metadata": {},
     "output_type": "display_data"
    },
    {
     "data": {
      "text/plain": [
       "<Figure size 1200x800 with 0 Axes>"
      ]
     },
     "metadata": {},
     "output_type": "display_data"
    }
   ],
   "source": [
    "length_df = pd.DataFrame({'english':eng_sizes, 'spanish':esp_sizes})\n",
    "length_df.hist(bins = 40)\n",
    "plt.figure(figsize = (12,8))\n",
    "plt.show()"
   ]
  },
  {
   "cell_type": "code",
   "execution_count": null,
   "id": "5529f7e0",
   "metadata": {},
   "outputs": [
    {
     "name": "stdout",
     "output_type": "stream",
     "text": [
      "english    54.0\n",
      "spanish    57.0\n",
      "Name: 0.95, dtype: float64\n"
     ]
    }
   ],
   "source": [
    "percentile_95 = length_df.quantile(0.95)\n",
    "print(percentile_95)"
   ]
  },
  {
   "cell_type": "code",
   "execution_count": null,
   "id": "54e57c67",
   "metadata": {},
   "outputs": [],
   "source": [
    "import unicodedata\n",
    "import re\n",
    "\n",
    "def unicode_to_ascii(s):\n",
    "    normalized = unicodedata.normalize('NFD', s)\n",
    "    return ''.join(c for c in normalized if unicodedata.category(c) != 'Mn')              # done to convert special chars in spanish to ascii\n",
    "\n",
    "def process_text(text):\n",
    "    text = unicode_to_ascii(text.lower().strip())\n",
    "    text = re.sub(r'[^a-z?.!,¿]+', ' ', text)      # as character- ¿ belongs to spanish vocab\n",
    "    text = re.sub(r\"([?.!,¿])\", r\" \\1 \", text)     # adds extra space before the punctuation to tokenize lateron \n",
    "    text = re.sub(r'[\" \"]+', \" \", text)            # replaces multiple continuous white spaces with a single white space\n",
    "    text = '<sos> ' + text + ' <eos>'\n",
    "    return text                # start of sentence, end of sentence"
   ]
  },
  {
   "cell_type": "code",
   "execution_count": null,
   "id": "5889f04a",
   "metadata": {},
   "outputs": [
    {
     "data": {
      "text/plain": [
       "('<sos> segun la organizacion de las naciones unidas para la agricultura y la alimentacion , la produccion de alimentos debe aumentar como minimo un para atender la creciente demanda de una poblacion mundial que se espera supere los millones de personas en .  <eos>',\n",
       " '<sos> according to the united nations food and agricultural organisation , food production must increase by at least to meet the growing demands of a world population which is expected to exceed billion by the year .  <eos>')"
      ]
     },
     "execution_count": 66,
     "metadata": {},
     "output_type": "execute_result"
    }
   ],
   "source": [
    "esp = [process_text(text) for text in esp]\n",
    "eng = [process_text(text) for text in eng]\n",
    "esp[0], eng[0]"
   ]
  },
  {
   "cell_type": "markdown",
   "id": "6619eaac",
   "metadata": {},
   "source": [
    "## Vocab creation\n",
    "#### - same as previous notebook"
   ]
  },
  {
   "cell_type": "code",
   "execution_count": null,
   "id": "fd985aa4",
   "metadata": {},
   "outputs": [],
   "source": [
    "from collections import Counter\n",
    "\n",
    "def get_vocab(text_list):\n",
    "    all_words = [word for sentence in text_list for word in sentence.split()]\n",
    "\n",
    "    word_counts = Counter(all_words)\n",
    "\n",
    "    special_tokens = ['<pad>', '<unk>', '<sos>', '<eos>']\n",
    "    vocab = {token: i for i, token in enumerate(special_tokens)}\n",
    "\n",
    "    count = len(vocab)\n",
    "\n",
    "    for word, _ in word_counts.most_common():          # .most_common() to get words in order of their frequency\n",
    "        if word not in vocab:\n",
    "            vocab[word] = count\n",
    "            count+=1\n",
    "\n",
    "    idx2word = {i: word for word, i in vocab.items()}\n",
    "\n",
    "    return vocab, idx2word"
   ]
  },
  {
   "cell_type": "code",
   "execution_count": null,
   "id": "1d2868ea",
   "metadata": {},
   "outputs": [
    {
     "name": "stdout",
     "output_type": "stream",
     "text": [
      "Spanish vocabulary size: 28916\n",
      "English vocabulary size: 19013\n"
     ]
    }
   ],
   "source": [
    "word2idx_esp, idx2word_esp = get_vocab(esp)\n",
    "word2idx_eng, idx2word_eng = get_vocab(eng)\n",
    "print(f\"Spanish vocabulary size: {len(word2idx_esp)}\")\n",
    "print(f\"English vocabulary size: {len(word2idx_eng)}\")"
   ]
  },
  {
   "cell_type": "code",
   "execution_count": null,
   "id": "40b92088",
   "metadata": {},
   "outputs": [],
   "source": [
    "unk_idx_eng = word2idx_eng['<unk>']\n",
    "unk_idx_esp = word2idx_esp['<unk>']\n",
    "\n",
    "esp_transformed = []\n",
    "for sentence in esp:\n",
    "    indices = []\n",
    "    for word in sentence.split():\n",
    "        indices.append(word2idx_esp.get(word, unk_idx_esp))\n",
    "    esp_transformed.append(indices)\n",
    "\n",
    "eng_transformed = []\n",
    "for sentence in eng:\n",
    "    indices = []\n",
    "    for word in sentence.split():\n",
    "        indices.append(word2idx_eng.get(word, unk_idx_eng))\n",
    "    eng_transformed.append(indices)"
   ]
  },
  {
   "cell_type": "code",
   "execution_count": null,
   "id": "afb9c95b",
   "metadata": {},
   "outputs": [
    {
     "name": "stdout",
     "output_type": "stream",
     "text": [
      "Spanish Tensor Shape: torch.Size([57, 30000])\n",
      "tensor([[   2,    2,    2,  ...,    2,    2,    2],\n",
      "        [ 462,   19,   59,  ...,    9,  806,    6],\n",
      "        [   6,  104,   62,  ..., 1199,    8,  880],\n",
      "        ...,\n",
      "        [   0,    0,  509,  ...,    0,    0,   37],\n",
      "        [   0,    0,    5,  ...,    0,    0,    7],\n",
      "        [   0,    0,    6,  ...,    0,    0,    3]])\n"
     ]
    }
   ],
   "source": [
    "import torch\n",
    "\n",
    "def pad_and_clip_sequences(sequences, max_len, padding_value):\n",
    "    padded_sequences = []\n",
    "    for seq in sequences:\n",
    "        if len(seq) > max_len:\n",
    "            clipped_seq = seq[:max_len]             #Clip the sequence\n",
    "            padded_sequences.append(clipped_seq)\n",
    "        else:\n",
    "            padded_seq = seq + [padding_value] * (max_len - len(seq))       # Pad the sequence\n",
    "            padded_sequences.append(padded_seq)\n",
    "            \n",
    "    return torch.tensor(padded_sequences, dtype=torch.long)\n",
    "\n",
    "MAX_LENGTH = 57\n",
    "PAD_IDX_ESP = word2idx_esp['<pad>'] \n",
    "PAD_IDX_ENG = word2idx_eng['<pad>'] \n",
    "\n",
    "# Apply padding and clipping\n",
    "esp_tensor = pad_and_clip_sequences(esp_transformed, MAX_LENGTH, PAD_IDX_ESP).transpose(0, 1)\n",
    "eng_tensor = pad_and_clip_sequences(eng_transformed, MAX_LENGTH, PAD_IDX_ENG).transpose(0, 1)\n",
    "\n",
    "print(\"Spanish Tensor Shape:\", esp_tensor.shape)\n",
    "print(esp_tensor)"
   ]
  },
  {
   "cell_type": "markdown",
   "id": "2b06bf7d",
   "metadata": {},
   "source": [
    "# Model Architecture\n",
    "#### implementation of \"Attention is all you need\""
   ]
  },
  {
   "cell_type": "markdown",
   "id": "68843b94",
   "metadata": {},
   "source": [
    "### A) Positional Encoding"
   ]
  },
  {
   "cell_type": "code",
   "execution_count": null,
   "id": "3f318904",
   "metadata": {},
   "outputs": [],
   "source": [
    "def positional_encodings(seq_len, d_model):\n",
    "    pos = np.arange(seq_len)[:, np.newaxis]  #[[0], [1], [2], ..., [seq_len - 1]]\n",
    "    dims = np.arange(d_model)[np.newaxis, :] # [[0, 1, 2, ..., d_model - 1]]\n",
    "    \n",
    "    angles_input = pos/(np.power(10000, (2*(dims//2))/d_model))\n",
    "    pos_encodings = np.zeros((seq_len, d_model))\n",
    "    pos_encodings[:, 0::2] = np.sin(angles_input[:, 0::2])\n",
    "    pos_encodings[:, 1::2] = np.cos(angles_input[:, 1::2])\n",
    "\n",
    "    return torch.tensor(pos_encodings, dtype=torch.float32)"
   ]
  },
  {
   "cell_type": "markdown",
   "id": "32928ff1",
   "metadata": {},
   "source": [
    "### B) MultiHeadAttention"
   ]
  },
  {
   "cell_type": "code",
   "execution_count": null,
   "id": "ca831d31",
   "metadata": {},
   "outputs": [],
   "source": [
    "class MultiHeadAttention(nn.Module):\n",
    "    def __init__(self, d_model, h):\n",
    "        super().__init__()\n",
    "        self.d_model = d_model\n",
    "        self.h = h\n",
    "        self.d_k = d_model // h \n",
    "\n",
    "        #Linear projections for Q, K, V\n",
    "        self.Wq = nn.Linear(d_model, d_model)\n",
    "        self.Wk = nn.Linear(d_model, d_model)\n",
    "        self.Wv = nn.Linear(d_model, d_model)\n",
    "        \n",
    "        #Final linear projection\n",
    "        self.W_o = nn.Linear(d_model, d_model)\n",
    "        \n",
    "    def forward(self, q, k, v, mask=None):\n",
    "        #Project Q, K, V\n",
    "        Q = self.Wq(q)                                     \n",
    "        K = self.Wk(k)                                     \n",
    "        V = self.Wv(v)                                     \n",
    "        \n",
    "        # Split into h heads\n",
    "        Q = self.split(Q)                               \n",
    "        K = self.split(K)  \n",
    "        V = self.split(V)\n",
    "\n",
    "        scores = torch.matmul(Q, K.transpose(-2,-1)) / math.sqrt(self.d_k)\n",
    "\n",
    "        if mask is not None:\n",
    "            scores = scores.masked_fill(mask == 0, -10000)\n",
    "        \n",
    "        out = torch.matmul(scores.softmax(dim = -1), V)\n",
    "        # Concatenate heads\n",
    "        batch_size, _, length, _ = out.size()\n",
    "        out = out.transpose(1,2).contiguous().view(batch_size, length, self.d_model) \n",
    "        \n",
    "        # Final projection\n",
    "        out = self.W_o(out)  \n",
    "        return out\n",
    "    \n",
    "    def split(self, tensor):\n",
    "        batch_size, length, _ = tensor.size()\n",
    "        tensor = tensor.view(batch_size, length, self.h, self.d_k).transpose(1,2)\n",
    "\n",
    "        return tensor"
   ]
  },
  {
   "cell_type": "markdown",
   "id": "e5231a41",
   "metadata": {},
   "source": [
    "### C) Feed forward Layer"
   ]
  },
  {
   "cell_type": "code",
   "execution_count": null,
   "id": "0b41e3dc",
   "metadata": {},
   "outputs": [],
   "source": [
    "class FeedFwd(nn.Module):\n",
    "    def __init__(self, d_model, prob= 0.1):\n",
    "        super().__init__()\n",
    "        self.linear1 = nn.Linear(d_model, d_model*2)\n",
    "        self.dropout = nn.Dropout(p=prob)\n",
    "        self.linear2 = nn.Linear(2*d_model, d_model)\n",
    "    \n",
    "    def forward(self, x):\n",
    "        x = self.dropout(nn.functional.relu(self.linear1(x)))\n",
    "        x = self.linear2(x)\n",
    "        return x"
   ]
  },
  {
   "cell_type": "markdown",
   "id": "d990c8ed",
   "metadata": {},
   "source": [
    "## Encoder"
   ]
  },
  {
   "cell_type": "code",
   "execution_count": null,
   "id": "317c029b",
   "metadata": {},
   "outputs": [],
   "source": [
    "class EncoderBlock(nn.Module):\n",
    "    def __init__(self, d_model, h, prob= 0.1):\n",
    "        super().__init__()\n",
    "        self.mha = MultiHeadAttention(d_model, h)\n",
    "        self.dropout = nn.Dropout(p= prob)\n",
    "        self.norm1 = nn.LayerNorm(d_model)\n",
    "        self.ffd = FeedFwd(d_model)       \n",
    "        self.norm2 = nn.LayerNorm(d_model)\n",
    "\n",
    "    def forward(self, x, src_mask):\n",
    "        x = self.norm1(self.dropout(x + self.mha(x, x, x, src_mask)))   # src mask for preventing attention towards padding tokens\n",
    "        x = self.norm2(x + self.ffd(x))  \n",
    "\n",
    "        return x"
   ]
  },
  {
   "cell_type": "code",
   "execution_count": null,
   "id": "5dcefb05",
   "metadata": {},
   "outputs": [],
   "source": [
    "class Encoder(nn.Module):\n",
    "    def __init__(self, vocab_size, d_model, h, device, dropout=0.2):\n",
    "        super().__init__()\n",
    "        self.d_model = d_model\n",
    "        self.device = device\n",
    "        self.embeddings = nn.Embedding(vocab_size, d_model)\n",
    "\n",
    "        self.block1 = EncoderBlock(d_model, h)        # 2 encoder blocks\n",
    "        self.block2 = EncoderBlock(d_model, h)\n",
    "\n",
    "    def forward(self, x, src_mask):\n",
    "        x = self.embeddings(x) * (self.d_model ** 0.5)\n",
    "        pos_enc = positional_encodings(x.size(1), self.d_model).to(x.device) \n",
    "        x = x + pos_enc.unsqueeze(0)  \n",
    "\n",
    "        # pass through encoder blocks\n",
    "        x = self.block1(x, src_mask)\n",
    "        x = self.block2(x, src_mask)\n",
    "        return x"
   ]
  },
  {
   "cell_type": "markdown",
   "id": "0296595b",
   "metadata": {},
   "source": [
    "## Decoder"
   ]
  },
  {
   "cell_type": "code",
   "execution_count": null,
   "id": "5a1f43eb",
   "metadata": {},
   "outputs": [],
   "source": [
    "class DecoderBlock(nn.Module):\n",
    "    def __init__(self, d_model, h, device, prob=0.1):\n",
    "        super().__init__()\n",
    "        self.self_att = MultiHeadAttention(d_model, h)\n",
    "        self.dropout1 = nn.Dropout(p=prob)\n",
    "        self.layernorm1 = nn.LayerNorm(d_model)\n",
    "\n",
    "        self.cross_att = MultiHeadAttention(d_model, h)\n",
    "        self.dropout2 = nn.Dropout(p=0)\n",
    "        self.layernorm2 = nn.LayerNorm(d_model)\n",
    "\n",
    "        self.ffd = FeedFwd(d_model)\n",
    "        self.dropout3 = nn.Dropout(p=0)\n",
    "        self.layernorm3 = nn.LayerNorm(d_model)\n",
    "\n",
    "    def forward(self, x, enc, trg_mask, src_mask):\n",
    "        x_initial = x\n",
    "        x = self.self_att(q=x, k=x, v=x, mask=trg_mask)\n",
    "        x = self.layernorm1(x_initial + self.dropout1(x))\n",
    "\n",
    "        if enc is not None:\n",
    "            x_initial = x\n",
    "            x = self.cross_att(q=x, k=enc, v=enc, mask=src_mask)\n",
    "            x = self.layernorm2(x_initial + self.dropout2(x))\n",
    "\n",
    "        x_initial = x\n",
    "        x = self.ffd(x)\n",
    "        x = self.layernorm3(x_initial + self.dropout3(x))\n",
    "        \n",
    "        return x\n"
   ]
  },
  {
   "cell_type": "code",
   "execution_count": null,
   "id": "672cb48e",
   "metadata": {},
   "outputs": [],
   "source": [
    "class Decoder(nn.Module):\n",
    "    def __init__(self, vocab_size, d_model, h, device, prob = 0.1):\n",
    "        super().__init__()\n",
    "        self.embeddings = nn.Embedding(vocab_size, d_model)\n",
    "        self.block1 = DecoderBlock(d_model, h, device, prob=0.1)\n",
    "        self.block2 = DecoderBlock(d_model, h, device, prob=0.0)\n",
    "        self.linear = nn.Linear(d_model, vocab_size)\n",
    "        self.d_model = d_model\n",
    "\n",
    "\n",
    "    def forward(self, x, enc_src, trg_mask, src_mask):\n",
    "\n",
    "        x = self.embeddings(x) * (self.d_model ** 0.5)\n",
    "        pos_enc = positional_encodings(x.size(1), self.d_model).to(x.device) \n",
    "        x = x + pos_enc.unsqueeze(0)\n",
    "        \n",
    "        x = self.block1(x, enc_src, trg_mask, src_mask)\n",
    "        x = self.block2(x, enc_src, trg_mask, src_mask)\n",
    "\n",
    "        x = self.linear(x)\n",
    "        return x"
   ]
  },
  {
   "cell_type": "markdown",
   "id": "2238c2c1",
   "metadata": {},
   "source": [
    "## Final Translator model"
   ]
  },
  {
   "cell_type": "code",
   "execution_count": null,
   "id": "7c01b83c",
   "metadata": {},
   "outputs": [],
   "source": [
    "class translator(nn.Module):\n",
    "    def __init__(self, src_pad_idx, trg_pad_idx, src_vocab_size, trg_vocab_size, d_model, h, device):\n",
    "        super().__init__()\n",
    "        \n",
    "        self.encoder = Encoder(src_vocab_size, d_model, h, device)\n",
    "        self.decoder = Decoder(trg_vocab_size, d_model, h, device)\n",
    "        self.device = device    \n",
    "        self.src_pad_idx = src_pad_idx\n",
    "        self.trg_pad_idx = trg_pad_idx\n",
    "        self.device = device\n",
    "        \n",
    "    def create_src_mask(self, src):\n",
    "        src_mask = (src != self.src_pad_idx).unsqueeze(1).unsqueeze(2)\n",
    "        return src_mask\n",
    "    \n",
    "    def create_trg_mask(self, trg):                                                     # to prevent attention to padding and attending to future tokens \n",
    "        trg_pad_mask = (trg != self.trg_pad_idx).unsqueeze(1).unsqueeze(3)\n",
    "        trg_len = trg.shape[1]\n",
    "        trg_sub_mask = torch.tril(torch.ones(trg_len, trg_len, dtype=torch.bool)).to(self.device)\n",
    "        trg_mask = trg_pad_mask & trg_sub_mask\n",
    "        return trg_mask\n",
    "\n",
    "    def forward(self, src, trg):\n",
    "        src_mask = self.create_src_mask(src)\n",
    "        trg_mask = self.create_trg_mask(trg)\n",
    "        enc_src = self.encoder(src, src_mask)\n",
    "        outputs = self.decoder(trg, enc_src, trg_mask, src_mask)\n",
    "        return outputs"
   ]
  },
  {
   "cell_type": "markdown",
   "id": "a01a6348",
   "metadata": {},
   "source": [
    "# Hyperparameters"
   ]
  },
  {
   "cell_type": "code",
   "execution_count": null,
   "id": "789d8f62",
   "metadata": {},
   "outputs": [],
   "source": [
    "batch_size = 64\n",
    "d_model = 256\n",
    "h = 4\n",
    "drop_prob = 0.1\n",
    "\n",
    "# optimizer parameter setting\n",
    "init_lr = 5e-5\n",
    "factor = 0.6\n",
    "epochs = 20\n",
    "clip = 1.0\n",
    "weight_decay = 5e-6\n",
    "inf = float('inf')"
   ]
  },
  {
   "cell_type": "code",
   "execution_count": null,
   "id": "e15ed365",
   "metadata": {},
   "outputs": [],
   "source": [
    "src_pad_idx = word2idx_esp['<pad>']\n",
    "trg_pad_idx = word2idx_eng['<pad>']\n",
    "\n",
    "src_vocab_size = len(word2idx_esp)\n",
    "trg_vocab_size = len(word2idx_eng)\n",
    "\n",
    "device = torch.device('cuda' if torch.cuda.is_available() else 'cpu')"
   ]
  },
  {
   "cell_type": "code",
   "execution_count": null,
   "id": "ca5b9c07",
   "metadata": {},
   "outputs": [],
   "source": [
    "import torch\n",
    "from torch.amp import autocast, GradScaler\n",
    "from tqdm import tqdm\n",
    "import math\n",
    "import time\n",
    "\n",
    "def train_epoch(model, train_loader, valid_loader, optimizer, criterion, clip, scaler, scheduler, device):\n",
    "    # Training \n",
    "    model.train()\n",
    "    train_loss = 0.0\n",
    "    train_steps = 0 \n",
    "    \n",
    "    for src, trg in tqdm(train_loader, desc=\"Training\", leave=False):\n",
    "        src = src.to(device)\n",
    "        trg = trg.to(device)\n",
    "        \n",
    "        optimizer.zero_grad()\n",
    "        \n",
    "        with autocast('cuda'):\n",
    "            outputs = model(src, trg[:, :-1])  \n",
    "            output_dim = outputs.shape[-1]\n",
    "            output_reshape = outputs.contiguous().view(-1, output_dim)\n",
    "            trg_reshaped = trg[:, 1:].contiguous().view(-1)\n",
    "            loss = criterion(output_reshape, trg_reshaped)\n",
    "        \n",
    "        scaler.scale(loss).backward()\n",
    "        torch.nn.utils.clip_grad_norm_(model.parameters(), clip)\n",
    "        scaler.step(optimizer)\n",
    "        scaler.update()\n",
    "        train_loss += loss.item()\n",
    "    \n",
    "    avg_train_loss = train_loss / len(train_loader)\n",
    "    \n",
    "    # Validation \n",
    "    model.eval()\n",
    "    valid_loss = 0.0\n",
    "    logits_std_sum = 0.0\n",
    "    num_batches = 0\n",
    "    \n",
    "    with torch.no_grad():\n",
    "        for src, trg in tqdm(valid_loader, desc=\"Validation\", leave=False):\n",
    "            src = src.to(device)\n",
    "            trg = trg.to(device)\n",
    "            \n",
    "            with autocast('cuda'):\n",
    "                outputs = model(src, trg[:, :-1])\n",
    "                output_dim = outputs.shape[-1]\n",
    "                output_reshaped = outputs.contiguous().view(-1, output_dim)\n",
    "                trg_reshaped = trg[:, 1:].contiguous().view(-1)\n",
    "                loss = criterion(output_reshaped, trg_reshaped)\n",
    "            \n",
    "            valid_loss += loss.item()\n",
    "            logits_std_sum += outputs.std().item()  # Monitor if logits diversify (>0.1+ indicates learning)\n",
    "            num_batches += 1\n",
    "    \n",
    "    avg_valid_loss = valid_loss / len(valid_loader)\n",
    "    avg_logits_std = logits_std_sum / num_batches\n",
    "    \n",
    "    # Print diagnostics\n",
    "    current_lr = optimizer.param_groups[0]['lr']\n",
    "    print(f\"Current LR: {current_lr:.2e} | Avg Logits Std: {avg_logits_std:.4f}\")\n",
    "    \n",
    "    return avg_train_loss, avg_valid_loss\n",
    "\n",
    "\n"
   ]
  },
  {
   "cell_type": "code",
   "execution_count": null,
   "id": "487c480b",
   "metadata": {},
   "outputs": [],
   "source": [
    "import math\n",
    "import time\n",
    "\n",
    "from torch import nn, optim\n",
    "from torch.optim import Adam\n",
    "model = translator(src_pad_idx, trg_pad_idx, src_vocab_size, trg_vocab_size, d_model, h, device).to(device)\n",
    "\n",
    "def initialize_weights(m):\n",
    "    if hasattr(m, 'weight') and m.weight.dim() > 1:\n",
    "        nn.init.xavier_uniform_(m.weight)\n",
    "\n",
    "model.apply(initialize_weights)\n",
    "\n",
    "optimizer = Adam(params=model.parameters(), lr=init_lr, weight_decay=weight_decay)\n",
    "\n",
    "scheduler = optim.lr_scheduler.ReduceLROnPlateau(optimizer=optimizer, factor=factor)\n",
    "\n",
    "scaler = GradScaler('cuda')\n",
    "\n",
    "criterion = nn.CrossEntropyLoss(ignore_index=trg_pad_idx)"
   ]
  },
  {
   "cell_type": "code",
   "execution_count": null,
   "id": "114fad7f",
   "metadata": {},
   "outputs": [],
   "source": [
    "src_tensor = torch.LongTensor(esp_tensor)\n",
    "trg_tensor = torch.LongTensor(eng_tensor)\n",
    "\n",
    "train_src_tensor, valid_src_tensor, train_trg_tensor, valid_trg_tensor = train_test_split(\n",
    "    src_tensor.transpose(0, 1),  \n",
    "    trg_tensor.transpose(0, 1),  \n",
    "    test_size=0.1,\n",
    "    random_state=42\n",
    ")\n",
    "train_dataset = TensorDataset(train_src_tensor, train_trg_tensor)\n",
    "valid_dataset = TensorDataset(valid_src_tensor, valid_trg_tensor)\n",
    "\n",
    "train_dataloader = DataLoader(\n",
    "    train_dataset, \n",
    "    batch_size=batch_size, \n",
    "    shuffle=True, \n",
    "    num_workers=4,\n",
    "    pin_memory=True\n",
    ")\n",
    "\n",
    "valid_dataloader = DataLoader(\n",
    "    valid_dataset, \n",
    "    batch_size=batch_size, \n",
    "    num_workers=4, \n",
    "    pin_memory=True\n",
    ")"
   ]
  },
  {
   "cell_type": "code",
   "execution_count": null,
   "id": "83d49244",
   "metadata": {},
   "outputs": [],
   "source": [
    "def epoch_time(start_time, end_time):\n",
    "    # This calculates the total duration in seconds. \n",
    "    elapsed_time = end_time - start_time\n",
    "    \n",
    "    # This converts the total seconds to whole minutes by dividing by 60 \n",
    "    elapsed_mins = int(elapsed_time / 60)\n",
    "    \n",
    "    # This calculates the remaining seconds. \n",
    "    elapsed_secs = int(elapsed_time - (elapsed_mins * 60))\n",
    "    \n",
    "    # It returns the calculated minutes and seconds.\n",
    "    return elapsed_mins, elapsed_secs"
   ]
  },
  {
   "cell_type": "markdown",
   "id": "dd2ed887",
   "metadata": {},
   "source": [
    "# Training "
   ]
  },
  {
   "cell_type": "code",
   "execution_count": null,
   "id": "9c78fe97",
   "metadata": {},
   "outputs": [
    {
     "name": "stderr",
     "output_type": "stream",
     "text": [
      "                                                           \r"
     ]
    },
    {
     "name": "stdout",
     "output_type": "stream",
     "text": [
      "Current LR: 5.00e-05 | Avg Logits Std: 0.1181\n",
      "Epoch: 01 | Time: 0m 24s\n",
      "\tTrain Loss: 8.998 | Train PPL: 8083.429\n",
      "\tValid Loss: 8.172 | Valid PPL: 3538.895\n"
     ]
    },
    {
     "name": "stderr",
     "output_type": "stream",
     "text": [
      "                                                           \r"
     ]
    },
    {
     "name": "stdout",
     "output_type": "stream",
     "text": [
      "Current LR: 5.00e-05 | Avg Logits Std: 0.2020\n",
      "Epoch: 02 | Time: 0m 24s\n",
      "\tTrain Loss: 7.662 | Train PPL: 2126.990\n",
      "\tValid Loss: 7.280 | Valid PPL: 1451.206\n"
     ]
    },
    {
     "name": "stderr",
     "output_type": "stream",
     "text": [
      "                                                           \r"
     ]
    },
    {
     "name": "stdout",
     "output_type": "stream",
     "text": [
      "Current LR: 5.00e-05 | Avg Logits Std: 0.2129\n",
      "Epoch: 03 | Time: 0m 27s\n",
      "\tTrain Loss: 7.192 | Train PPL: 1329.071\n",
      "\tValid Loss: 7.155 | Valid PPL: 1280.858\n"
     ]
    },
    {
     "name": "stderr",
     "output_type": "stream",
     "text": [
      "                                                           \r"
     ]
    },
    {
     "name": "stdout",
     "output_type": "stream",
     "text": [
      "Current LR: 5.00e-05 | Avg Logits Std: 0.2057\n",
      "Epoch: 04 | Time: 0m 29s\n",
      "\tTrain Loss: 7.146 | Train PPL: 1268.500\n",
      "\tValid Loss: 7.145 | Valid PPL: 1268.233\n"
     ]
    },
    {
     "name": "stderr",
     "output_type": "stream",
     "text": [
      "                                                           \r"
     ]
    },
    {
     "name": "stdout",
     "output_type": "stream",
     "text": [
      "Current LR: 5.00e-05 | Avg Logits Std: 0.1552\n",
      "Epoch: 05 | Time: 0m 29s\n",
      "\tTrain Loss: 7.191 | Train PPL: 1326.779\n",
      "\tValid Loss: 7.520 | Valid PPL: 1843.896\n"
     ]
    },
    {
     "name": "stderr",
     "output_type": "stream",
     "text": [
      "                                                           \r"
     ]
    },
    {
     "name": "stdout",
     "output_type": "stream",
     "text": [
      "Current LR: 5.00e-05 | Avg Logits Std: 0.1058\n",
      "Epoch: 06 | Time: 0m 29s\n",
      "\tTrain Loss: 7.888 | Train PPL: 2663.962\n",
      "\tValid Loss: 8.098 | Valid PPL: 3289.069\n"
     ]
    },
    {
     "name": "stderr",
     "output_type": "stream",
     "text": [
      "                                                           \r"
     ]
    },
    {
     "name": "stdout",
     "output_type": "stream",
     "text": [
      "Current LR: 5.00e-05 | Avg Logits Std: 0.1001\n",
      "Epoch: 07 | Time: 0m 28s\n",
      "\tTrain Loss: 8.148 | Train PPL: 3456.129\n",
      "\tValid Loss: 8.184 | Valid PPL: 3581.414\n"
     ]
    },
    {
     "name": "stderr",
     "output_type": "stream",
     "text": [
      "                                                           \r"
     ]
    },
    {
     "name": "stdout",
     "output_type": "stream",
     "text": [
      "Current LR: 5.00e-05 | Avg Logits Std: 0.0994\n",
      "Epoch: 08 | Time: 0m 28s\n",
      "\tTrain Loss: 8.181 | Train PPL: 3571.583\n",
      "\tValid Loss: 8.197 | Valid PPL: 3628.533\n"
     ]
    },
    {
     "name": "stderr",
     "output_type": "stream",
     "text": [
      "                                                           \r"
     ]
    },
    {
     "name": "stdout",
     "output_type": "stream",
     "text": [
      "Current LR: 5.00e-05 | Avg Logits Std: 0.0980\n",
      "Epoch: 09 | Time: 0m 29s\n",
      "\tTrain Loss: 8.196 | Train PPL: 3626.934\n",
      "\tValid Loss: 8.218 | Valid PPL: 3705.658\n"
     ]
    },
    {
     "name": "stderr",
     "output_type": "stream",
     "text": [
      "                                                           \r"
     ]
    },
    {
     "name": "stdout",
     "output_type": "stream",
     "text": [
      "Current LR: 5.00e-05 | Avg Logits Std: 0.0629\n",
      "Epoch: 10 | Time: 0m 29s\n",
      "\tTrain Loss: 8.382 | Train PPL: 4366.271\n",
      "\tValid Loss: 8.770 | Valid PPL: 6436.572\n"
     ]
    },
    {
     "name": "stderr",
     "output_type": "stream",
     "text": [
      "                                                           \r"
     ]
    },
    {
     "name": "stdout",
     "output_type": "stream",
     "text": [
      "Current LR: 5.00e-05 | Avg Logits Std: 0.0485\n",
      "Epoch: 11 | Time: 0m 29s\n",
      "\tTrain Loss: 8.915 | Train PPL: 7443.348\n",
      "\tValid Loss: 9.007 | Valid PPL: 8160.596\n"
     ]
    },
    {
     "name": "stderr",
     "output_type": "stream",
     "text": [
      "                                                           \r"
     ]
    },
    {
     "name": "stdout",
     "output_type": "stream",
     "text": [
      "Current LR: 5.00e-05 | Avg Logits Std: 0.0454\n",
      "Epoch: 12 | Time: 0m 28s\n",
      "\tTrain Loss: 9.030 | Train PPL: 8353.463\n",
      "\tValid Loss: 9.058 | Valid PPL: 8590.664\n"
     ]
    },
    {
     "name": "stderr",
     "output_type": "stream",
     "text": [
      "                                                           \r"
     ]
    },
    {
     "name": "stdout",
     "output_type": "stream",
     "text": [
      "Current LR: 5.00e-05 | Avg Logits Std: 0.0440\n",
      "Epoch: 13 | Time: 0m 28s\n",
      "\tTrain Loss: 9.065 | Train PPL: 8643.803\n",
      "\tValid Loss: 9.083 | Valid PPL: 8800.414\n"
     ]
    },
    {
     "name": "stderr",
     "output_type": "stream",
     "text": [
      "                                                           \r"
     ]
    },
    {
     "name": "stdout",
     "output_type": "stream",
     "text": [
      "Current LR: 5.00e-05 | Avg Logits Std: 0.0429\n",
      "Epoch: 14 | Time: 0m 28s\n",
      "\tTrain Loss: 9.087 | Train PPL: 8837.371\n",
      "\tValid Loss: 9.103 | Valid PPL: 8983.824\n"
     ]
    },
    {
     "name": "stderr",
     "output_type": "stream",
     "text": [
      "                                                           \r"
     ]
    },
    {
     "name": "stdout",
     "output_type": "stream",
     "text": [
      "Current LR: 3.00e-05 | Avg Logits Std: 0.0226\n",
      "Epoch: 15 | Time: 0m 28s\n",
      "\tTrain Loss: 9.288 | Train PPL: 10812.627\n",
      "\tValid Loss: 9.457 | Valid PPL: 12792.342\n"
     ]
    },
    {
     "name": "stderr",
     "output_type": "stream",
     "text": [
      "                                                           \r"
     ]
    },
    {
     "name": "stdout",
     "output_type": "stream",
     "text": [
      "Current LR: 3.00e-05 | Avg Logits Std: 0.0207\n",
      "Epoch: 16 | Time: 0m 28s\n",
      "\tTrain Loss: 9.473 | Train PPL: 13009.980\n",
      "\tValid Loss: 9.490 | Valid PPL: 13225.156\n"
     ]
    },
    {
     "name": "stderr",
     "output_type": "stream",
     "text": [
      "                                                           \r"
     ]
    },
    {
     "name": "stdout",
     "output_type": "stream",
     "text": [
      "Current LR: 3.00e-05 | Avg Logits Std: 0.0201\n",
      "Epoch: 17 | Time: 0m 28s\n",
      "\tTrain Loss: 9.493 | Train PPL: 13264.575\n",
      "\tValid Loss: 9.501 | Valid PPL: 13369.803\n"
     ]
    },
    {
     "name": "stderr",
     "output_type": "stream",
     "text": [
      "                                                           \r"
     ]
    },
    {
     "name": "stdout",
     "output_type": "stream",
     "text": [
      "Current LR: 3.00e-05 | Avg Logits Std: 0.0197\n",
      "Epoch: 18 | Time: 0m 28s\n",
      "\tTrain Loss: 9.501 | Train PPL: 13379.172\n",
      "\tValid Loss: 9.508 | Valid PPL: 13465.711\n"
     ]
    },
    {
     "name": "stderr",
     "output_type": "stream",
     "text": [
      "                                                           \r"
     ]
    },
    {
     "name": "stdout",
     "output_type": "stream",
     "text": [
      "Current LR: 3.00e-05 | Avg Logits Std: 0.0193\n",
      "Epoch: 19 | Time: 0m 28s\n",
      "\tTrain Loss: 9.508 | Train PPL: 13467.667\n",
      "\tValid Loss: 9.514 | Valid PPL: 13547.539\n"
     ]
    },
    {
     "name": "stderr",
     "output_type": "stream",
     "text": [
      "                                                           "
     ]
    },
    {
     "name": "stdout",
     "output_type": "stream",
     "text": [
      "Current LR: 3.00e-05 | Avg Logits Std: 0.0190\n",
      "Epoch: 20 | Time: 0m 28s\n",
      "\tTrain Loss: 9.514 | Train PPL: 13551.415\n",
      "\tValid Loss: 9.520 | Valid PPL: 13635.411\n"
     ]
    },
    {
     "name": "stderr",
     "output_type": "stream",
     "text": [
      "\r"
     ]
    }
   ],
   "source": [
    "best_valid_loss = float('inf')\n",
    "\n",
    "for epoch in range(epochs):\n",
    "    start_time = time.time()\n",
    "    \n",
    "    train_loss, valid_loss = train_epoch(\n",
    "        model, train_dataloader, valid_dataloader, optimizer, criterion, clip, scaler, scheduler, device\n",
    "    )\n",
    "    \n",
    "    end_time = time.time()\n",
    "    epoch_mins, epoch_secs = epoch_time(start_time, end_time)\n",
    "    \n",
    "    if valid_loss < best_valid_loss:\n",
    "        best_valid_loss = valid_loss\n",
    "        torch.save(model.state_dict(), 'best_model.pt')\n",
    "    \n",
    "    if (epoch + 1) % 5 == 0:\n",
    "        torch.save(model.state_dict(), f'model_epoch_{epoch+1:02d}.pt')\n",
    "    \n",
    "    print(f'Epoch: {epoch+1:02} | Time: {epoch_mins}m {epoch_secs}s')\n",
    "    print(f'\\tTrain Loss: {train_loss:.3f} | Train PPL: {math.exp(train_loss):7.3f}')\n",
    "    print(f'\\tValid Loss: {valid_loss:.3f} | Valid PPL: {math.exp(valid_loss):7.3f}')"
   ]
  },
  {
   "cell_type": "markdown",
   "id": "c98a02f9",
   "metadata": {},
   "source": [
    "##### Could not tune the parameters due to few issues with my laptop"
   ]
  }
 ],
 "metadata": {
  "kernelspec": {
   "display_name": ".venv (3.13.3)",
   "language": "python",
   "name": "python3"
  },
  "language_info": {
   "codemirror_mode": {
    "name": "ipython",
    "version": 3
   },
   "file_extension": ".py",
   "mimetype": "text/x-python",
   "name": "python",
   "nbconvert_exporter": "python",
   "pygments_lexer": "ipython3",
   "version": "3.13.3"
  }
 },
 "nbformat": 4,
 "nbformat_minor": 5
}
