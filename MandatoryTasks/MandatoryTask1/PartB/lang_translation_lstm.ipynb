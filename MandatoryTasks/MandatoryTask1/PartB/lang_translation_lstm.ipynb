{
 "cells": [
  {
   "cell_type": "code",
   "execution_count": null,
   "id": "31b55c9d",
   "metadata": {},
   "outputs": [],
   "source": [
    "import numpy as np \n",
    "import pandas as pd \n",
    "import matplotlib.pyplot as plt\n",
    "import torch\n",
    "import torch.nn as nn\n",
    "import torch.nn.functional as F\n",
    "import torch.optim as optim\n",
    "import time\n",
    "import random\n",
    "import math\n",
    "import random"
   ]
  },
  {
   "cell_type": "markdown",
   "id": "6cbd9b24",
   "metadata": {},
   "source": [
    "# Data Preprocessing\n",
    "#### load data"
   ]
  },
  {
   "cell_type": "code",
   "execution_count": 2,
   "id": "eb44962f",
   "metadata": {},
   "outputs": [
    {
     "name": "stderr",
     "output_type": "stream",
     "text": [
      "d:\\Personal\\code\\ML comp\\New folder\\.venv\\Lib\\site-packages\\tqdm\\auto.py:21: TqdmWarning: IProgress not found. Please update jupyter and ipywidgets. See https://ipywidgets.readthedocs.io/en/stable/user_install.html\n",
      "  from .autonotebook import tqdm as notebook_tqdm\n"
     ]
    },
    {
     "name": "stdout",
     "output_type": "stream",
     "text": [
      "DatasetDict({\n",
      "    train: Dataset({\n",
      "        features: ['english', 'non_english'],\n",
      "        num_rows: 1966848\n",
      "    })\n",
      "})\n",
      "{'english': 'Resumption of the session', 'non_english': 'Reanudación del período de sesiones'}\n"
     ]
    }
   ],
   "source": [
    "from datasets import load_dataset\n",
    "\n",
    "ds = load_dataset(\"sentence-transformers/parallel-sentences-europarl\", \"en-es\")\n",
    "\n",
    "print(ds)\n",
    "print(ds['train'][0])\n",
    "dataset = ds['train']"
   ]
  },
  {
   "cell_type": "code",
   "execution_count": null,
   "id": "e2b031df",
   "metadata": {},
   "outputs": [
    {
     "data": {
      "text/html": [
       "<div>\n",
       "<style scoped>\n",
       "    .dataframe tbody tr th:only-of-type {\n",
       "        vertical-align: middle;\n",
       "    }\n",
       "\n",
       "    .dataframe tbody tr th {\n",
       "        vertical-align: top;\n",
       "    }\n",
       "\n",
       "    .dataframe thead th {\n",
       "        text-align: right;\n",
       "    }\n",
       "</style>\n",
       "<table border=\"1\" class=\"dataframe\">\n",
       "  <thead>\n",
       "    <tr style=\"text-align: right;\">\n",
       "      <th></th>\n",
       "      <th>english</th>\n",
       "      <th>non_english</th>\n",
       "    </tr>\n",
       "  </thead>\n",
       "  <tbody>\n",
       "    <tr>\n",
       "      <th>0</th>\n",
       "      <td>According to the United Nations Food and Agric...</td>\n",
       "      <td>Según la Organización de las Naciones Unidas p...</td>\n",
       "    </tr>\n",
       "    <tr>\n",
       "      <th>1</th>\n",
       "      <td>Once again, we see the conflict between indust...</td>\n",
       "      <td>Una vez más vemos surgir el conflicto entre la...</td>\n",
       "    </tr>\n",
       "    <tr>\n",
       "      <th>2</th>\n",
       "      <td>All that has allowed us to understand one anot...</td>\n",
       "      <td>Todo esto ha hecho posible que nos conozcamos ...</td>\n",
       "    </tr>\n",
       "    <tr>\n",
       "      <th>3</th>\n",
       "      <td>The EU uses those expectations to demand refor...</td>\n",
       "      <td>La Unión Europea utiliza estas expectativas pa...</td>\n",
       "    </tr>\n",
       "    <tr>\n",
       "      <th>4</th>\n",
       "      <td>The relevant paragraphs have been amended and ...</td>\n",
       "      <td>Se han modificado los párrafos pertinentes y y...</td>\n",
       "    </tr>\n",
       "  </tbody>\n",
       "</table>\n",
       "</div>"
      ],
      "text/plain": [
       "                                             english  \\\n",
       "0  According to the United Nations Food and Agric...   \n",
       "1  Once again, we see the conflict between indust...   \n",
       "2  All that has allowed us to understand one anot...   \n",
       "3  The EU uses those expectations to demand refor...   \n",
       "4  The relevant paragraphs have been amended and ...   \n",
       "\n",
       "                                         non_english  \n",
       "0  Según la Organización de las Naciones Unidas p...  \n",
       "1  Una vez más vemos surgir el conflicto entre la...  \n",
       "2  Todo esto ha hecho posible que nos conozcamos ...  \n",
       "3  La Unión Europea utiliza estas expectativas pa...  \n",
       "4  Se han modificado los párrafos pertinentes y y...  "
      ]
     },
     "execution_count": 3,
     "metadata": {},
     "output_type": "execute_result"
    }
   ],
   "source": [
    "subset = dataset.shuffle(seed=42).select(range(40000))           # take only a sample\n",
    "subset = subset.to_pandas()\n",
    "subset.head()"
   ]
  },
  {
   "cell_type": "code",
   "execution_count": null,
   "id": "0427f95d",
   "metadata": {},
   "outputs": [],
   "source": [
    "esp = subset['non_english'].to_list()\n",
    "esp_sizes = [len(i.split()) for i in esp]                 # get no no. of words for each sentences\n",
    "eng = subset['english'].to_list()\n",
    "eng_sizes = [len(i.split()) for i in eng]"
   ]
  },
  {
   "cell_type": "code",
   "execution_count": 5,
   "id": "1ffe2994",
   "metadata": {},
   "outputs": [
    {
     "data": {
      "image/png": "[encoded data removed]",
      "text/plain": [
       "<Figure size 640x480 with 2 Axes>"
      ]
     },
     "metadata": {},
     "output_type": "display_data"
    },
    {
     "data": {
      "text/plain": [
       "<Figure size 1200x800 with 0 Axes>"
      ]
     },
     "metadata": {},
     "output_type": "display_data"
    }
   ],
   "source": [
    "length_df = pd.DataFrame({'english':eng_sizes, 'spanish':esp_sizes})\n",
    "length_df.hist(bins = 40)\n",
    "plt.figure(figsize = (12,8))\n",
    "plt.show()"
   ]
  },
  {
   "cell_type": "code",
   "execution_count": null,
   "id": "b77e132e",
   "metadata": {},
   "outputs": [
    {
     "name": "stdout",
     "output_type": "stream",
     "text": [
      "english    54.0\n",
      "spanish    56.0\n",
      "Name: 0.95, dtype: float64\n"
     ]
    }
   ],
   "source": [
    "percentile_95 = length_df.quantile(0.95)                # considering 95th percentile to reduce computation\n",
    "print(percentile_95)"
   ]
  },
  {
   "cell_type": "code",
   "execution_count": 7,
   "id": "e9c5b9b8",
   "metadata": {},
   "outputs": [],
   "source": [
    "import unicodedata\n",
    "import re\n",
    "\n",
    "def unicode_to_ascii(s):\n",
    "    normalized = unicodedata.normalize('NFD', s)\n",
    "    return ''.join(c for c in normalized if unicodedata.category(c) != 'Mn')              # done to convert special chars in spanish to ascii\n",
    "\n",
    "def process_text(text):\n",
    "    text = unicode_to_ascii(text.lower().strip())\n",
    "    text = re.sub(r'[^a-z?.!,¿]+', ' ', text)      # as character- ¿ belongs to spanish vocab\n",
    "    text = re.sub(r\"([?.!,¿])\", r\" \\1 \", text)     # adds extra space before the punctuation to tokenize lateron \n",
    "    text = re.sub(r'[\" \"]+', \" \", text)            # replaces multiple continuous white spaces with a single white space\n",
    "    text = '<sos> ' + text + ' <eos>'\n",
    "    return text                # start of sentence, end of sentence"
   ]
  },
  {
   "cell_type": "code",
   "execution_count": null,
   "id": "c9b41c66",
   "metadata": {},
   "outputs": [
    {
     "data": {
      "text/plain": [
       "('<sos> segun la organizacion de las naciones unidas para la agricultura y la alimentacion , la produccion de alimentos debe aumentar como minimo un para atender la creciente demanda de una poblacion mundial que se espera supere los millones de personas en .  <eos>',\n",
       " '<sos> according to the united nations food and agricultural organisation , food production must increase by at least to meet the growing demands of a world population which is expected to exceed billion by the year .  <eos>')"
      ]
     },
     "execution_count": 8,
     "metadata": {},
     "output_type": "execute_result"
    }
   ],
   "source": [
    "esp = [process_text(text) for text in esp]\n",
    "eng = [process_text(text) for text in eng]\n",
    "esp[0], eng[0]     # example of processed data"
   ]
  },
  {
   "cell_type": "markdown",
   "id": "6fd019ad",
   "metadata": {},
   "source": [
    "## Vocab creation"
   ]
  },
  {
   "cell_type": "code",
   "execution_count": null,
   "id": "b3e4acba",
   "metadata": {},
   "outputs": [],
   "source": [
    "from collections import Counter\n",
    "\n",
    "def get_vocab(text_list):\n",
    "    all_words = [word for sentence in text_list for word in sentence.split()]              # all words in entire corpus\n",
    "\n",
    "    word_counts = Counter(all_words)\n",
    "\n",
    "    special_tokens = ['<pad>', '<unk>', '<sos>', '<eos>']\n",
    "    vocab = {token: i for i, token in enumerate(special_tokens)}\n",
    "\n",
    "    count = len(vocab)\n",
    "\n",
    "    for word, _ in word_counts.most_common():          # .most_common() to get words in order of their frequency\n",
    "        if word not in vocab:\n",
    "            vocab[word] = count\n",
    "            count+=1\n",
    "\n",
    "    idx2word = {i: word for word, i in vocab.items()}\n",
    "\n",
    "    return vocab, idx2word"
   ]
  },
  {
   "cell_type": "code",
   "execution_count": 10,
   "id": "ed299be3",
   "metadata": {},
   "outputs": [
    {
     "name": "stdout",
     "output_type": "stream",
     "text": [
      "Spanish vocabulary size: 32820\n",
      "English vocabulary size: 21258\n"
     ]
    }
   ],
   "source": [
    "word2idx_esp, idx2word_esp = get_vocab(esp)\n",
    "word2idx_eng, idx2word_eng = get_vocab(eng)\n",
    "print(f\"Spanish vocabulary size: {len(word2idx_esp)}\")\n",
    "print(f\"English vocabulary size: {len(word2idx_eng)}\")"
   ]
  },
  {
   "cell_type": "code",
   "execution_count": null,
   "id": "dfef4b1a",
   "metadata": {},
   "outputs": [],
   "source": [
    "unk_idx_eng = word2idx_eng['<unk>']\n",
    "unk_idx_esp = word2idx_esp['<unk>']\n",
    "\n",
    "esp_transformed = []\n",
    "for sentence in esp:\n",
    "    indices = []\n",
    "    for word in sentence.split():\n",
    "        indices.append(word2idx_esp.get(word, unk_idx_esp))  # idx of word if present in vocab; if not- idx of UNK token\n",
    "    esp_transformed.append(indices)\n",
    "\n",
    "eng_transformed = []\n",
    "for sentence in eng:\n",
    "    indices = []\n",
    "    for word in sentence.split():\n",
    "        indices.append(word2idx_eng.get(word, unk_idx_eng))\n",
    "    eng_transformed.append(indices)"
   ]
  },
  {
   "cell_type": "markdown",
   "id": "675fdbf9",
   "metadata": {},
   "source": [
    "#### A fixed sequence length is still required in LSTMs even if they are sequential, as the batching and GPU processing need fixed matrices. Obviously not all statements can be of same length so we pad the ones that are shorter and clip the ones that are longer than the 95th percentile sentence length found earlier"
   ]
  },
  {
   "cell_type": "code",
   "execution_count": null,
   "id": "2f83e720",
   "metadata": {},
   "outputs": [
    {
     "name": "stdout",
     "output_type": "stream",
     "text": [
      "Spanish Tensor Shape: torch.Size([57, 40000])\n",
      "tensor([[   2,    2,    2,  ...,    2,    2,    2],\n",
      "        [ 472,   19,   60,  ...,   18,   26,   18],\n",
      "        [   6,  109,   64,  ...,   58, 1679,  323],\n",
      "        ...,\n",
      "        [   0,    0,  503,  ...,    0,    0,    0],\n",
      "        [   0,    0,    5,  ...,    0,    0,    0],\n",
      "        [   0,    0,    6,  ...,    0,    0,    0]])\n"
     ]
    }
   ],
   "source": [
    "import torch\n",
    "\n",
    "def pad_and_clip_sequences(sequences, max_len, padding_value):\n",
    "    padded_sequences = []\n",
    "    for seq in sequences:\n",
    "        if len(seq) > max_len:\n",
    "            clipped_seq = seq[:max_len]             #Clip the sequence\n",
    "            padded_sequences.append(clipped_seq)\n",
    "        else:\n",
    "            padded_seq = seq + [padding_value] * (max_len - len(seq))       # Pad the sequence\n",
    "            padded_sequences.append(padded_seq)\n",
    "            \n",
    "    return torch.tensor(padded_sequences, dtype=torch.long)\n",
    "\n",
    "MAX_LENGTH = 57 # from the 95th percentile\n",
    "PAD_IDX_ESP = word2idx_esp['<pad>'] \n",
    "PAD_IDX_ENG = word2idx_eng['<pad>'] \n",
    "\n",
    "# Apply padding and clipping\n",
    "esp_tensor = pad_and_clip_sequences(esp_transformed, MAX_LENGTH, PAD_IDX_ESP).transpose(0, 1)\n",
    "eng_tensor = pad_and_clip_sequences(eng_transformed, MAX_LENGTH, PAD_IDX_ENG).transpose(0, 1)\n",
    "\n",
    "print(\"Spanish Tensor Shape:\", esp_tensor.shape)\n",
    "print(esp_tensor)"
   ]
  },
  {
   "cell_type": "markdown",
   "id": "582d397b",
   "metadata": {},
   "source": [
    "# Model Architecture"
   ]
  },
  {
   "cell_type": "markdown",
   "id": "b6a4483e",
   "metadata": {},
   "source": [
    "## Encoder\n",
    "#### Takes in the indices of the tokens (referring to the vocabulary) from the sentence, and gets the embeddings from the nn.Embedding layer that is (vocab_size x embed_dimensions) then passes it through the LSTM."
   ]
  },
  {
   "cell_type": "code",
   "execution_count": null,
   "id": "134db58c",
   "metadata": {},
   "outputs": [],
   "source": [
    "class Encoder(nn.Module):\n",
    "    def __init__(self, esp_vocab_size, embed_dim, hidden_dim, n_layers, dropout):\n",
    "        super().__init__()\n",
    "        self.hidden_dim = hidden_dim\n",
    "        self.n_layers = n_layers\n",
    "        self.embedding = nn.Embedding(esp_vocab_size, embed_dim)\n",
    "        self.rnn = nn.LSTM(embed_dim, hidden_dim, n_layers, dropout=dropout)\n",
    "        self.dropout = nn.Dropout(dropout)\n",
    "\n",
    "    def forward(self, esp_indices):\n",
    "\n",
    "        embedded = self.dropout(self.embedding(esp_indices))        # embedded = [esp_indices length, batch size, embedding dim]\n",
    "        \n",
    "        outputs, (hidden, cell) = self.rnn(embedded)\n",
    "        # outputs = [esp_indices length, batch size, hidden dim]    - used for attention mechanism \n",
    "        # hidden = [n layers, batch size, hidden dim]               - final hidden state after processing the last input token  (working memory)\n",
    "        # cell = [n layers, batch size, hidden dim]                 - long term memory after processing the last input token    (long term memory)\n",
    "        return outputs, hidden, cell                                "
   ]
  },
  {
   "cell_type": "markdown",
   "id": "1b9fa228",
   "metadata": {},
   "source": [
    "## Attention Block"
   ]
  },
  {
   "cell_type": "markdown",
   "id": "015630ed",
   "metadata": {},
   "source": [
    "#### Takes current hidden Decoder state (x) and the outputs from encoder (which has information about each processed input token); measures how relevant each of the input token is to the decoder's current hidden state by concatenating both and passing through a linear layer with a tanh function that gives a tensor which is sort of a score for each token"
   ]
  },
  {
   "cell_type": "code",
   "execution_count": 14,
   "id": "5cbc0f51",
   "metadata": {},
   "outputs": [],
   "source": [
    "class Attention(nn.Module):\n",
    "    def __init__(self, hidden_dim):\n",
    "        super().__init__()\n",
    "        self.attn = nn.Linear(hidden_dim * 2, hidden_dim)\n",
    "        self.out = nn.Linear(hidden_dim, 1, bias = False)\n",
    "\n",
    "    def forward(self, x, encoder_outputs, mask):\n",
    "        # x = [batch_size, hidden_dim]  - the current hidden state of the decoder\n",
    "        # encoder_outputs = [esp_indices length, batch_size, hidden_dim]\n",
    "        # mask = [batch_size, src_len]\n",
    "        \n",
    "        esp_indices_len = encoder_outputs.shape[0]\n",
    "        \n",
    "        x = x.unsqueeze(1).repeat(1, esp_indices_len, 1)\n",
    "        encoder_outputs = encoder_outputs.permute(1, 0, 2)\n",
    "        \n",
    "        x = torch.tanh(self.attn(torch.cat((x, encoder_outputs), dim = 2)))\n",
    "        \n",
    "        attention = self.out(x).squeeze(2)\n",
    "        \n",
    "        attention = attention.masked_fill(mask == 0, -10000)                # Apply the mask\n",
    "        \n",
    "        return F.softmax(attention, dim=1)"
   ]
  },
  {
   "cell_type": "markdown",
   "id": "ad5db76f",
   "metadata": {},
   "source": [
    "## Decoder"
   ]
  },
  {
   "cell_type": "code",
   "execution_count": null,
   "id": "eeeb2513",
   "metadata": {},
   "outputs": [],
   "source": [
    "class Decoder(nn.Module):\n",
    "    def __init__(self, eng_vocab_size, embed_dim, hidden_dim, n_layers, dropout, attention):\n",
    "        super().__init__()\n",
    "        self.attention = attention\n",
    "        self.output_dim = eng_vocab_size\n",
    "        self.embedding = nn.Embedding(self.output_dim, embed_dim)\n",
    "        self.rnn = nn.LSTM(hidden_dim + embed_dim, hidden_dim, n_layers, dropout=dropout)        # to concatenate the context vector() from attention, extra hidden_dim, with  \n",
    "        self.fc_out = nn.Linear(hidden_dim * 2 + embed_dim, self.output_dim)\n",
    "        self.dropout = nn.Dropout(dropout)\n",
    "\n",
    "    def forward(self, x, hidden, cell, encoder_outputs, mask):\n",
    "        # x = [batch_size] - the first tokens in each target sentence of the batch; used as input to generate the output token for each time step of the decoder\n",
    "        \n",
    "        x = x.unsqueeze(0)          # x = [1, batch_size]\n",
    "        embedded = self.dropout(self.embedding(x))      \n",
    "        \n",
    "        a = self.attention(hidden[-1], encoder_outputs, mask)               #attension weights\n",
    "        a = a.unsqueeze(1) # a = [batch_size, 1, esp_indices_len]\n",
    "        \n",
    "        encoder_outputs = encoder_outputs.permute(1, 0, 2) # [batch_size, esp_indices_len, hidden_dim]\n",
    "        \n",
    "        weighted = a @ encoder_outputs # weighted = [batch_size, 1, hidden_dim]\n",
    "        weighted = weighted.permute(1, 0, 2) # weighted = [1, batch_size, hidden_dim]\n",
    "        \n",
    "        rnn_input = torch.cat((embedded, weighted), dim = 2)      # Concatenate embedding and weighted context for the LSTM\n",
    "        \n",
    "        output, (hidden, cell) = self.rnn(rnn_input, (hidden, cell))\n",
    "        \n",
    "        embedded = embedded.squeeze(0)\n",
    "        output = output.squeeze(0)\n",
    "        weighted = weighted.squeeze(0)\n",
    "        \n",
    "        prediction = self.fc_out(torch.cat((output, weighted, embedded), dim = 1))                # Concatenate everything for the final prediction\n",
    "        \n",
    "        return prediction, hidden, cell, a.squeeze(1)"
   ]
  },
  {
   "cell_type": "markdown",
   "id": "31d93223",
   "metadata": {},
   "source": [
    "## Final Translator "
   ]
  },
  {
   "cell_type": "markdown",
   "id": "47d64015",
   "metadata": {},
   "source": [
    "#### We use teacher forcing in training: i.e, for input in time step t of the discriminator, we provide actual target of time step T= t-1 instead of decoder's output at T=t-1. But only with a probability instead of everytime, as it gives more flexibility for the model to learn to adapt to certain mismatches so that it doesnt cause much of a problem during testing\n"
   ]
  },
  {
   "cell_type": "code",
   "execution_count": null,
   "id": "388fe56c",
   "metadata": {},
   "outputs": [],
   "source": [
    "class translator(nn.Module):\n",
    "    def __init__(self, encoder, decoder, pad_idx, device):\n",
    "        super().__init__()\n",
    "        \n",
    "        self.encoder = encoder  \n",
    "        self.decoder = decoder\n",
    "        self.esp_pad_idx = pad_idx\n",
    "        self.device = device\n",
    "        \n",
    "    def create_mask(self, esp_indices):\n",
    "        mask = (esp_indices != self.esp_pad_idx).permute(1, 0)      # mask is done to ignore attending to pad tokens\n",
    "        return mask\n",
    "\n",
    "    def forward(self, esp_indices, eng_indices, teacher_forcing_ratio = 0.5):\n",
    "        \n",
    "        batch_size = eng_indices.shape[1]\n",
    "        trg_len = eng_indices.shape[0]\n",
    "        trg_vocab_size = self.decoder.output_dim\n",
    "        outputs = torch.zeros(trg_len, batch_size, trg_vocab_size).to(self.device)\n",
    "        \n",
    "        encoder_outputs, hidden, cell = self.encoder(esp_indices)\n",
    "        \n",
    "        mask = self.create_mask(esp_indices)         # the mask for the source sentence\n",
    "        \n",
    "        x = eng_indices[0,:]                         # take the first word from each sentence (batch)\n",
    "        \n",
    "        for t in range(1,trg_len):                     # loop required as decoder outputs one token at a time\n",
    "            \n",
    "            output, hidden, cell, _ = self.decoder(x, hidden, cell, encoder_outputs, mask)             \n",
    "            \n",
    "            outputs[t] = output\n",
    "            \n",
    "            teacher_force = random.random() < teacher_forcing_ratio\n",
    "            top1 = output.argmax(1) \n",
    "            x = eng_indices[t] if teacher_force else top1\n",
    "            \n",
    "        return outputs\n"
   ]
  },
  {
   "cell_type": "code",
   "execution_count": null,
   "id": "ded3fc18",
   "metadata": {},
   "outputs": [],
   "source": [
    "from tqdm import tqdm\n",
    "from torch.amp import autocast, GradScaler\n",
    "\n",
    "def train_fn(model, optimizer, loss_fn, clip, dataloader, device, scaler):\n",
    "    model.train()\n",
    "    total_loss = 0\n",
    "    for esp_src, eng_trg in tqdm(dataloader, desc=\"Training\", leave=False):\n",
    "        esp_src = esp_src.transpose(0, 1).to(device)\n",
    "        eng_trg = eng_trg.transpose(0, 1).to(device)\n",
    "\n",
    "        optimizer.zero_grad()\n",
    "        with autocast('cuda'):\n",
    "            outputs = model(esp_src, eng_trg)\n",
    "            output_dim = outputs.shape[-1]\n",
    "            outputs_reshaped = outputs[:-1].reshape(-1, output_dim)        \n",
    "            trg_reshaped = eng_trg[1:].reshape(-1)                              # outputs[:-1] and eng_trg[1:} as an offset is created between outputs and eng_trg; outputs[i] is a prediction for eng_trg[i+1]\n",
    "            loss = loss_fn(outputs_reshaped, trg_reshaped)\n",
    "        \n",
    "        scaler.scale(loss).backward()\n",
    "        torch.nn.utils.clip_grad_norm_(model.parameters(), clip)                # to prevent exploding grads\n",
    "        scaler.step(optimizer) \n",
    "        scaler.update()\n",
    "        \n",
    "        total_loss += loss.item()\n",
    "    \n",
    "    return total_loss/len(dataloader)\n"
   ]
  },
  {
   "cell_type": "code",
   "execution_count": 18,
   "id": "4ab409b7",
   "metadata": {},
   "outputs": [],
   "source": [
    "def evaluate_fn(model, dataloader, loss_fn, device):\n",
    "    model.eval()\n",
    "    total_loss = 0\n",
    "    \n",
    "    with torch.no_grad():\n",
    "        for src, trg in dataloader:\n",
    "            src = src.to(device)\n",
    "            trg = trg.to(device)\n",
    "            \n",
    "            outputs = model(src, trg, 0)            # Turn off teacher forcing for evaluation\n",
    "            \n",
    "            output_dim = outputs.shape[-1]\n",
    "            outputs_reshaped = outputs[:-1].view(-1, output_dim)\n",
    "            trg_reshaped = trg[1:].view(-1)\n",
    "            \n",
    "            loss = loss_fn(outputs_reshaped, trg_reshaped)\n",
    "            \n",
    "            total_loss += loss.item()\n",
    "            \n",
    "    return total_loss / len(dataloader)"
   ]
  },
  {
   "cell_type": "markdown",
   "id": "9a106883",
   "metadata": {},
   "source": [
    "### Hyperparameters"
   ]
  },
  {
   "cell_type": "code",
   "execution_count": 19,
   "id": "826fce9f",
   "metadata": {},
   "outputs": [],
   "source": [
    "N_EPOCHS = 100\n",
    "CLIP = 1\n",
    "LEARNING_RATE = 0.003\n",
    "WEIGHT_DECAY =  1e-5\n",
    "esp_vocab_size = len(word2idx_esp)\n",
    "eng_vocab_size = len(word2idx_eng)\n",
    "batch_size = 32\n",
    "device = torch.device('cuda' if torch.cuda.is_available() else 'cpu')"
   ]
  },
  {
   "cell_type": "markdown",
   "id": "dc4cfb9f",
   "metadata": {},
   "source": [
    "### Final Data prep before training"
   ]
  },
  {
   "cell_type": "code",
   "execution_count": 20,
   "id": "840acab8",
   "metadata": {},
   "outputs": [],
   "source": [
    "from sklearn.model_selection import train_test_split\n",
    "from torch.utils.data import TensorDataset, DataLoader\n",
    "\n",
    "src_tensor = torch.LongTensor(esp_tensor)\n",
    "trg_tensor = torch.LongTensor(eng_tensor)\n",
    "\n",
    "train_src_tensor, valid_src_tensor, train_trg_tensor, valid_trg_tensor = train_test_split(\n",
    "    src_tensor.transpose(0, 1),  # Shape [20000, 57]\n",
    "    trg_tensor.transpose(0, 1),  # Shape [20000, 57]\n",
    "    test_size=0.1,\n",
    "    random_state=42\n",
    ")\n",
    "train_dataset = TensorDataset(train_src_tensor, train_trg_tensor)\n",
    "valid_dataset = TensorDataset(valid_src_tensor, valid_trg_tensor)\n",
    "\n",
    "train_dataloader = DataLoader(\n",
    "    train_dataset, \n",
    "    batch_size=batch_size, \n",
    "    shuffle=True, \n",
    "    num_workers=4,\n",
    "    pin_memory=True\n",
    ")\n",
    "\n",
    "valid_dataloader = DataLoader(\n",
    "    valid_dataset, \n",
    "    batch_size=batch_size, \n",
    "    num_workers=4, \n",
    "    pin_memory=True\n",
    ")"
   ]
  },
  {
   "cell_type": "code",
   "execution_count": 21,
   "id": "b61e180b",
   "metadata": {},
   "outputs": [
    {
     "data": {
      "text/plain": [
       "torch.Size([57, 40000])"
      ]
     },
     "execution_count": 21,
     "metadata": {},
     "output_type": "execute_result"
    }
   ],
   "source": [
    "src_tensor.shape"
   ]
  },
  {
   "cell_type": "code",
   "execution_count": 22,
   "id": "445e49a8",
   "metadata": {},
   "outputs": [],
   "source": [
    "def epoch_time(start_time, end_time):\n",
    "    # This calculates the total duration in seconds. \n",
    "    elapsed_time = end_time - start_time\n",
    "    \n",
    "    # This converts the total seconds to whole minutes by dividing by 60 \n",
    "    elapsed_mins = int(elapsed_time / 60)\n",
    "    \n",
    "    # This calculates the remaining seconds. \n",
    "    elapsed_secs = int(elapsed_time - (elapsed_mins * 60))\n",
    "    \n",
    "    # It returns the calculated minutes and seconds.\n",
    "    return elapsed_mins, elapsed_secs"
   ]
  },
  {
   "cell_type": "markdown",
   "id": "ce9503d8",
   "metadata": {},
   "source": [
    "### Model Initialization"
   ]
  },
  {
   "cell_type": "code",
   "execution_count": 23,
   "id": "850fc84e",
   "metadata": {},
   "outputs": [],
   "source": [
    "enc = Encoder(esp_vocab_size, 256, 512, 2, 0.5)\n",
    "attn = Attention(512)\n",
    "dec = Decoder(eng_vocab_size, 256, 512, 2, 0.5, attn)\n",
    "model = translator(enc, dec, PAD_IDX_ESP, device).to(device)"
   ]
  },
  {
   "cell_type": "markdown",
   "id": "bacdd888",
   "metadata": {},
   "source": [
    "# Training and Evaluating"
   ]
  },
  {
   "cell_type": "code",
   "execution_count": null,
   "id": "f78a4fe6",
   "metadata": {},
   "outputs": [],
   "source": [
    "scalar = GradScaler('cuda')\n",
    "\n",
    "optimizer = optim.Adam(model.parameters(), lr=LEARNING_RATE, weight_decay=WEIGHT_DECAY)\n",
    "criterion = nn.CrossEntropyLoss(ignore_index=PAD_IDX_ENG)\n",
    "\n",
    "for epoch in range(N_EPOCHS):\n",
    "        start_time = time.time()\n",
    "        \n",
    "        train_loss = train_fn(model, optimizer, criterion, CLIP, train_dataloader, device,scalar)\n",
    "        valid_loss = evaluate_fn(model, valid_dataloader, criterion, device)\n",
    "        \n",
    "        end_time = time.time()\n",
    "        \n",
    "        epoch_mins, epoch_secs = epoch_time(start_time, end_time)\n",
    "        \n",
    "        \n",
    "        if epoch%5 == 0:\n",
    "            torch.save(model.state_dict(), 'model.pt')\n",
    "        \n",
    "        print(f'Epoch: {epoch+1:02} | Time: {epoch_mins}m {epoch_secs}s')\n",
    "        print(f'\\tTrain Loss: {train_loss:.3f} | Train PPL: {math.exp(train_loss):7.3f}')\n",
    "        print(f'\\t Val. Loss: {valid_loss:.3f} |  Val. PPL: {math.exp(valid_loss):7.3f}')\n"
   ]
  },
  {
   "cell_type": "markdown",
   "id": "805eb18b",
   "metadata": {},
   "source": [
    "##### Note: i tried tuning the model several times but could not get the lost to decrease on the long run. Below is the example that I had saved for the best trained model, but lost the weights;"
   ]
  },
  {
   "cell_type": "code",
   "execution_count": null,
   "id": "8ad00233",
   "metadata": {},
   "outputs": [],
   "source": [
    "def translate_sentence(sentence, src_vocab, trg_vocab, model, device, max_len=MAX_LENGTH):\n",
    "    model.eval()\n",
    "    processed_sentence = process_text(sentence)\n",
    "    token2idx_ex = []\n",
    "    for word in processed_sentence.split():\n",
    "        token2idx_ex.append(word2idx_esp.get(word, unk_idx_esp))\n",
    "    print(token2idx_ex)\n",
    "    seq = []\n",
    "    if len(token2idx_ex) > max_len:\n",
    "        seq = token2idx_ex[:max_len]             #Clip the sequence\n",
    "    else:\n",
    "        seq = token2idx_ex + [0] * (max_len - len(seq))       # Pad the sequence\n",
    "    ex_tensor = torch.tensor(seq, dtype=torch.long).to(device).unsqueeze(1)\n",
    "    with torch.no_grad():\n",
    "        encoder_outputs, hidden, cell = model.encoder(ex_tensor)\n",
    "        mask = model.create_mask(ex_tensor)\n",
    "\n",
    "    trg_indices = [trg_vocab['<sos>']]\n",
    "    attentions = torch.zeros(max_len, 1, len(ex_tensor)).to(device)\n",
    "    \n",
    "    for i in range(max_len):\n",
    "        trg_tensor = torch.LongTensor([trg_indices[-1]]).to(device)\n",
    "        \n",
    "        with torch.no_grad():\n",
    "            output, hidden, cell, attention = model.decoder(trg_tensor, hidden, cell, encoder_outputs, mask)\n",
    "        \n",
    "        attentions[i] = attention\n",
    "        pred_token = output.argmax(1).item()\n",
    "        trg_indices.append(pred_token)\n",
    "\n",
    "        if pred_token == trg_vocab['<eos>']:\n",
    "            break\n",
    "            \n",
    "    idx2word_trg = {idx: word for word, idx in trg_vocab.items()}\n",
    "    trg_tokens = [idx2word_trg.get(i, '<unk>') for i in trg_indices]\n",
    "    \n",
    "    return trg_tokens[1:-1]"
   ]
  },
  {
   "cell_type": "code",
   "execution_count": null,
   "id": "b3618039",
   "metadata": {},
   "outputs": [
    {
     "name": "stdout",
     "output_type": "stream",
     "text": [
      "[2, 347, 3]\n",
      "Source: haber\n",
      "Predicted Translation: i have\n"
     ]
    }
   ],
   "source": [
    "example_sentence = \"haber\"\n",
    "translated_tokens = translate_sentence(\n",
    "        example_sentence, word2idx_esp, word2idx_eng, model, device\n",
    "    )\n",
    "    \n",
    "print(f'Source: {example_sentence}')\n",
    "print(f'Predicted Translation: {\" \".join(translated_tokens)}')"
   ]
  }
 ],
 "metadata": {
  "kernelspec": {
   "display_name": ".venv (3.13.3)",
   "language": "python",
   "name": "python3"
  },
  "language_info": {
   "codemirror_mode": {
    "name": "ipython",
    "version": 3
   },
   "file_extension": ".py",
   "mimetype": "text/x-python",
   "name": "python",
   "nbconvert_exporter": "python",
   "pygments_lexer": "ipython3",
   "version": "3.13.3"
  }
 },
 "nbformat": 4,
 "nbformat_minor": 5
}
